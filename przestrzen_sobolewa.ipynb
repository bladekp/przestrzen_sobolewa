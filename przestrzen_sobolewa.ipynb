{
 "cells": [
  {
   "cell_type": "markdown",
   "id": "0657def1-05e0-49c6-af36-025575aead5a",
   "metadata": {},
   "source": [
    "## Zadanie\n",
    "\n",
    "Pokazać, że funkcja $v \\in V = \\text{domknięcie zbioru } \\mathcal{N} = u \\in C_0^{\\infty}(\\Omega) : \\operatorname{div} u = 0$ w przestrzeni $H_0^1(\\Omega)$, gdzie $\\Omega$ jest ograniczonym obszarem w $\\mathbb{R}^n$, jest rozwiązaniem zagadnienia:\n",
    "znaleźć $v \\in V$ takie, że:\n",
    "\n",
    "$$\\nu((v, \\varphi)) = \\langle f, \\varphi \\rangle \\quad \\forall \\varphi \\in V, \\quad (f \\in V')$$\n",
    "\n",
    "wtedy i tylko wtedy, gdy $v$ realizuje minimum funkcjonału:\n",
    "\n",
    "$$F(u) = \\frac{1}{2} \\nu \\lVert u \\rVert^2 - \\langle f, u \\rangle \\quad \\text{na } V.$$\n",
    "\n",
    "Ostatecznie, chcemy pokazać, że $-\\nu \\Delta v + \\nabla p = f$ oraz $div v = 0$ w $\\mathcal{D}'(\\Omega) \\text{ dla pewnego } p \\in \\mathcal{D}'(\\Omega)$, na podstawie ogólnego lematu.\n"
   ]
  },
  {
   "cell_type": "markdown",
   "id": "f8ad50ce-ffdf-4b95-885a-12aa5621f3ce",
   "metadata": {},
   "source": [
    "## Rozwiązanie\n",
    "\n",
    "1. **Definicja przestrzeni $ V $:**\n",
    "   Przestrzeń $ V $ jest domknięciem zbioru funkcji $ u \\in C_0^{\\infty}(\\Omega) $ takich, że $ \\operatorname{div} u = 0 $, w przestrzeni Sobolewa $ H_0^1(\\Omega) $. Oznacza to, że $ V $ składa się z funkcji o zerowej dywergencji, które są zerowe na brzegu obszaru $ \\Omega $ w sensie śladu.\n",
    "\n",
    "2. **Sformułowanie problemu jako minimalizacji funkcjonału:**\n",
    "   Definiujemy funkcjonał $ F $ na przestrzeni $ V $:\n",
    "   $$\n",
    "   F(u) = \\frac{1}{2} \\nu \\lVert u \\rVert^2 - \\langle f, u \\rangle,\n",
    "   $$\n",
    "   gdzie $ \\nu > 0 $ jest stałą, $ \\lVert u \\rVert $ oznacza normę w $ H_0^1(\\Omega) $, a $ f \\in V' $ (dualna przestrzeń $ V $) jest funkcją źródłową.\n",
    "\n",
    "   Funkcja $ v \\in V $ minimalizuje funkcjonał $ F $ wtedy i tylko wtedy, gdy spełnia równanie Eulera-Lagrange’a dla $ F $:\n",
    "   $$\n",
    "   \\delta F(v; \\varphi) = 0 \\quad \\forall \\varphi \\in V.\n",
    "   $$\n",
    "   \n",
    "3. **Obliczenie pochodnej funkcjonału $ F $:**\n",
    "   Różniczkujemy $ F $ względem $ u $ w kierunku $ \\varphi \\in V $:\n",
    "   $$\n",
    "   \\delta F(u; \\varphi) = \\nu \\langle u, \\varphi \\rangle - \\langle f, \\varphi \\rangle.\n",
    "   $$\n",
    "   Aby warunek Eulera-Lagrange’a był spełniony, wyrażenie to musi być równe zero dla każdego $ \\varphi \\in V $. Zatem szukane $ v \\in V $ spełnia równanie:\n",
    "   $$\n",
    "   \\nu \\langle v, \\varphi \\rangle = \\langle f, \\varphi \\rangle \\quad \\forall \\varphi \\in V.\n",
    "   $$\n",
    "\n",
    "4. **Przejście do równania różniczkowego:**\n",
    "   Forma dwuliniowa $ \\langle v, \\varphi \\rangle $ w przestrzeni $ H_0^1(\\Omega) $ odpowiada $ a(v, \\varphi) = \\int_\\Omega \\nabla v \\cdot \\nabla \\varphi \\, dx $. Zatem równanie:\n",
    "   $$\n",
    "   \\nu \\int_\\Omega \\nabla v \\cdot \\nabla \\varphi \\, dx = \\langle f, \\varphi \\rangle \\quad \\forall \\varphi \\in V,\n",
    "   $$\n",
    "   jest słabą formą równania różniczkowego\n",
    "   $$\n",
    "   -\\nu \\Delta v + \\nabla p = f \\quad \\text{oraz} \\quad \\operatorname{div} v = 0 \\quad \\text{w } \\mathcal{D}'(\\Omega),\n",
    "   $$\n",
    "   gdzie $ p \\in \\mathcal{D}'(\\Omega) $ jest ciśnieniem (lub funkcją sprzężoną) wprowadzoną jako mnożnik Lagrange’a, aby zapewnić warunek zerowej dywergencji $ \\operatorname{div} v = 0 $.\n",
    "\n",
    "5. **Wniosek:**\n",
    "   Pokazaliśmy, że funkcja $ v \\in V $, która minimalizuje funkcjonał $ F(u) $, spełnia słabą formę równania eliptycznego z warunkami:\n",
    "   $$\n",
    "   -\\nu \\Delta v + \\nabla p = f \\quad \\text{oraz} \\quad \\operatorname{div} v = 0 \\quad \\text{w } \\mathcal{D}'(\\Omega).\n",
    "   $$\n",
    "\n",
    "Ostatecznie, rozwiązanie minimalizujące funkcjonał $ F(u) $ jest słabym rozwiązaniem równania różniczkowego z dywergencją zerową, co kończy dowód."
   ]
  }
 ],
 "metadata": {
  "kernelspec": {
   "display_name": "Python 3 (ipykernel)",
   "language": "python",
   "name": "python3"
  },
  "language_info": {
   "codemirror_mode": {
    "name": "ipython",
    "version": 3
   },
   "file_extension": ".py",
   "mimetype": "text/x-python",
   "name": "python",
   "nbconvert_exporter": "python",
   "pygments_lexer": "ipython3",
   "version": "3.12.7"
  }
 },
 "nbformat": 4,
 "nbformat_minor": 5
}
